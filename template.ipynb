{
  "cells": [
    {
      "cell_type": "code",
      "id": "5ba82531-2601-494f-bb93-5f817de31a82",
      "metadata": {
        "jupyter": {
          "is_executing": true
        },
        "colab": {
          "base_uri": "https://localhost:8080/"
        },
        "id": "5ba82531-2601-494f-bb93-5f817de31a82",
        "outputId": "695e8bdb-56ba-4952-b399-97ecf7956034"
      },
      "source": [
        "!pip install matplotlib"
      ],
      "outputs": [
        {
          "output_type": "stream",
          "name": "stdout",
          "text": [
            "Requirement already satisfied: matplotlib in /usr/local/lib/python3.10/dist-packages (3.7.1)\n",
            "Requirement already satisfied: contourpy>=1.0.1 in /usr/local/lib/python3.10/dist-packages (from matplotlib) (1.2.1)\n",
            "Requirement already satisfied: cycler>=0.10 in /usr/local/lib/python3.10/dist-packages (from matplotlib) (0.12.1)\n",
            "Requirement already satisfied: fonttools>=4.22.0 in /usr/local/lib/python3.10/dist-packages (from matplotlib) (4.51.0)\n",
            "Requirement already satisfied: kiwisolver>=1.0.1 in /usr/local/lib/python3.10/dist-packages (from matplotlib) (1.4.5)\n",
            "Requirement already satisfied: numpy>=1.20 in /usr/local/lib/python3.10/dist-packages (from matplotlib) (1.25.2)\n",
            "Requirement already satisfied: packaging>=20.0 in /usr/local/lib/python3.10/dist-packages (from matplotlib) (24.0)\n",
            "Requirement already satisfied: pillow>=6.2.0 in /usr/local/lib/python3.10/dist-packages (from matplotlib) (9.4.0)\n",
            "Requirement already satisfied: pyparsing>=2.3.1 in /usr/local/lib/python3.10/dist-packages (from matplotlib) (3.1.2)\n",
            "Requirement already satisfied: python-dateutil>=2.7 in /usr/local/lib/python3.10/dist-packages (from matplotlib) (2.8.2)\n",
            "Requirement already satisfied: six>=1.5 in /usr/local/lib/python3.10/dist-packages (from python-dateutil>=2.7->matplotlib) (1.16.0)\n"
          ]
        }
      ],
      "execution_count": 1
    },
    {
      "cell_type": "code",
      "id": "22815830-5b83-49ce-923f-af372dcdd098",
      "metadata": {
        "jupyter": {
          "is_executing": true
        },
        "id": "22815830-5b83-49ce-923f-af372dcdd098"
      },
      "source": [
        "import matplotlib.pyplot as plt\n",
        "import random as rd"
      ],
      "outputs": [],
      "execution_count": 2
    },
    {
      "cell_type": "code",
      "id": "394aed81-a7b7-4497-8357-36cb39c5f309",
      "metadata": {
        "jupyter": {
          "is_executing": true
        },
        "id": "394aed81-a7b7-4497-8357-36cb39c5f309"
      },
      "source": [
        "from dataclasses import dataclass, field\n",
        "\n",
        "@dataclass\n",
        "class MazeCell:\n",
        "    x: int\n",
        "    y: int\n",
        "    component: int\n",
        "    is_open: bool = field(default=False)\n",
        "    walls: list = field(default_factory=list)"
      ],
      "outputs": [],
      "execution_count": 3
    },
    {
      "cell_type": "code",
      "id": "b23fab15-b8d7-4a09-882f-6caf95b66c3b",
      "metadata": {
        "jupyter": {
          "is_executing": true
        },
        "id": "b23fab15-b8d7-4a09-882f-6caf95b66c3b"
      },
      "source": [
        "N = 30\n",
        "LINE_WIDTH = 50"
      ],
      "outputs": [],
      "execution_count": 4
    },
    {
      "cell_type": "code",
      "id": "a7eb330f-fd7a-4dc2-a66c-8fb4bd73bc8a",
      "metadata": {
        "jupyter": {
          "is_executing": true
        },
        "id": "a7eb330f-fd7a-4dc2-a66c-8fb4bd73bc8a"
      },
      "source": [
        "import random as rd\n",
        "\n",
        "class MazeCell:\n",
        "    def __init__(self, x, y, component, is_open, walls):\n",
        "        self.x = x\n",
        "        self.y = y\n",
        "        self.component = component\n",
        "        self.is_open = is_open\n",
        "        self.walls = walls\n",
        "\n",
        "# Проверка, что все клетки лабиринта принадлежат одной компоненте связности\n",
        "def check_components(maze):\n",
        "    initial_component = maze[0].component\n",
        "    for cell in maze:\n",
        "        if cell.component != initial_component:\n",
        "            return True\n",
        "    return False\n",
        "\n",
        "# Проверяет, принадлежат ли два элемента одному множеству\n",
        "def find(x, y):\n",
        "    return x.component == y.component\n",
        "\n",
        "# Находит все элементы множества\n",
        "def find_set(component, maze):\n",
        "    return [cell for cell in maze if cell.component == component]\n",
        "\n",
        "# Объединяет два множества\n",
        "def union(x, y, maze):\n",
        "    if not find(x, y):\n",
        "        for cell in find_set(y.component, maze):\n",
        "            cell.component = x.component\n",
        "        return True\n",
        "    return False\n",
        "\n",
        "# Получает соседей текущей ячейки\n",
        "def get_neighbours(x, y, maze):\n",
        "    neighbours = []\n",
        "    for cell in maze:\n",
        "        if (x - 1 == cell.x and y == cell.y) or (x + 1 == cell.x and y == cell.y) or (y - 1 == cell.y and x == cell.x) or (y + 1 == cell.y and x == cell.x):\n",
        "            neighbours.append(cell)\n",
        "    return neighbours\n",
        "\n",
        "# Удаляет стены между текущей ячейкой и соседом\n",
        "def delete_walls(cell, neighbour):\n",
        "    dx, dy = neighbour.x - cell.x, neighbour.y - cell.y\n",
        "    if dx > 0:\n",
        "        cell.walls[1] = False\n",
        "        neighbour.walls[3] = False\n",
        "    elif dx < 0:\n",
        "        cell.walls[3] = False\n",
        "        neighbour.walls[1] = False\n",
        "    if dy > 0:\n",
        "        cell.walls[2] = False\n",
        "        neighbour.walls[0] = False\n",
        "    elif dy < 0:\n",
        "        cell.walls[0] = False\n",
        "        neighbour.walls[2] = False\n",
        "\n",
        "# Выбор случайной ячейки из списка\n",
        "def rand_choice(choices):\n",
        "    return rd.choice(choices)\n",
        "\n",
        "# Генерация лабиринта\n",
        "def generate_maze(N):\n",
        "    maze = []\n",
        "    n = 0\n",
        "    for y in range(N):\n",
        "        for x in range(N):\n",
        "            maze.append(MazeCell(x, y, n, False, [True, True, True, True]))\n",
        "            n += 1\n",
        "\n",
        "    unchosen = maze[:]\n",
        "\n",
        "    while check_components(maze):\n",
        "        cell = rand_choice(unchosen)\n",
        "        x, y = cell.x, cell.y\n",
        "        neighbours = get_neighbours(x, y, maze)\n",
        "        neighbour = rand_choice(neighbours)\n",
        "\n",
        "        if union(cell, neighbour, maze):\n",
        "            delete_walls(cell, neighbour)\n",
        "\n",
        "    # Вход сверху, выход снизу\n",
        "    maze[0].is_open = True\n",
        "    maze[0].walls[0] = False\n",
        "    maze[-1].is_open = True\n",
        "    maze[-1].walls[2] = False\n",
        "\n",
        "    return maze\n"
      ],
      "outputs": [],
      "execution_count": 5
    },
    {
      "cell_type": "code",
      "id": "b3175704-175b-4b46-8d2e-6c7261008655",
      "metadata": {
        "jupyter": {
          "is_executing": true
        },
        "id": "b3175704-175b-4b46-8d2e-6c7261008655"
      },
      "source": [
        "maze = generate_maze(N)"
      ],
      "outputs": [],
      "execution_count": 6
    },
    {
      "cell_type": "code",
      "id": "d8631fe0-4bef-46a8-a3f8-0efe01f9393a",
      "metadata": {
        "jupyter": {
          "is_executing": true
        },
        "id": "d8631fe0-4bef-46a8-a3f8-0efe01f9393a"
      },
      "source": [
        "def draw_maze(maze):\n",
        "\n",
        "    for cell in maze:\n",
        "        if cell.walls[0]:\n",
        "            start_x, end_x = cell.x, cell.x+1\n",
        "            start_y, end_y = N - cell.y, N - cell.y\n",
        "            plt.plot([start_x, end_x], [start_y, end_y], 'k-', lw=2)\n",
        "\n",
        "        if cell.walls[1]:\n",
        "            start_x, end_x = cell.x+1, cell.x+1\n",
        "            start_y, end_y = N - cell.y, N - cell.y-1\n",
        "            plt.plot([start_x, end_x], [start_y, end_y], 'k-', lw=2)\n",
        "\n",
        "        if cell.walls[2]:\n",
        "            start_x, end_x = cell.x, cell.x+1\n",
        "            start_y, end_y = N - cell.y-1, N - cell.y-1\n",
        "            plt.plot([start_x, end_x], [start_y, end_y], 'k-', lw=2)\n",
        "\n",
        "        if cell.walls[3]:\n",
        "            start_x, end_x = cell.x, cell.x\n",
        "            start_y, end_y = N - cell.y, N - cell.y-1\n",
        "            plt.plot([start_x, end_x], [start_y, end_y], 'k-', lw=2)"
      ],
      "outputs": [],
      "execution_count": 7
    },
    {
      "cell_type": "code",
      "id": "f5756126-381a-4d75-bd19-80f70e8a4e0a",
      "metadata": {
        "jupyter": {
          "is_executing": true
        },
        "colab": {
          "base_uri": "https://localhost:8080/",
          "height": 830
        },
        "id": "f5756126-381a-4d75-bd19-80f70e8a4e0a",
        "outputId": "81b0cb5a-7850-4135-8ae2-7ca86bf79595"
      },
      "source": [
        "fig = plt.figure(figsize=(10, 10))\n",
        "\n",
        "draw_maze(maze)\n",
        "\n",
        "plt.show()"
      ],
      "outputs": [
        {
          "output_type": "display_data",
          "data": {
            "text/plain": [
              "<Figure size 1000x1000 with 1 Axes>"
            ],
            "image/png": "[encoded data removed]"
          },
          "metadata": {}
        }
      ],
      "execution_count": 8
    },
    {
      "metadata": {
        "jupyter": {
          "is_executing": true
        },
        "id": "49d08ed5528452bf"
      },
      "cell_type": "code",
      "source": [
        "class Maze:\n",
        "\n",
        "    def __init__(self, n):\n",
        "        self.maze = []\n",
        "        self.N = n\n",
        "        comp = 0\n",
        "        for y in range(self.N):\n",
        "            line = []\n",
        "            for x in range(self.N):\n",
        "                self.maze.append(MazeCell(x, y, comp, False, [True, True, True, True]))\n",
        "                comp += 1\n",
        "\n",
        "\n",
        "        while self.check_comp():\n",
        "            cell = self.rand_choise()\n",
        "            if cell is None: break\n",
        "            x, y = cell.x, cell.y\n",
        "            neighbours = self.get_neigbours(x, y)\n",
        "            neighbour = rd.choice(neighbours)\n",
        "\n",
        "            if self.union(cell, neighbour):\n",
        "                self.delete_walls(cell, neighbour)\n",
        "\n",
        "\n",
        "        # вход и выход сделаю только снизу и сверху (слева / справа лень и не суть)\n",
        "\n",
        "        self.maze[0].is_open = True\n",
        "        self.maze[0].walls[0] = False\n",
        "        self.maze[-1].is_open = True\n",
        "        self.maze[-1].walls[2] = False\n",
        "\n",
        "    def check_comp(self):\n",
        "        component = self.maze[0].component\n",
        "        for i in range(self.N*self.N):\n",
        "            if component != self.maze[i].component:\n",
        "                return True\n",
        "\n",
        "    def find(self, x, y):\n",
        "        return x.component == y.component\n",
        "\n",
        "\n",
        "    def find_set(self, x):\n",
        "        cells = []\n",
        "        for cell in self.maze:\n",
        "            if cell.component == x:\n",
        "                cells.append(cell)\n",
        "\n",
        "        return cells\n",
        "\n",
        "\n",
        "    def union(self, x, y):\n",
        "        if not self.find(x, y):\n",
        "            for cell in self.find_set(y.component):\n",
        "                cell.component = x.component\n",
        "            return True\n",
        "        return False\n",
        "\n",
        "    def get_neigbours(self, x, y):\n",
        "        neighbours = []\n",
        "        for cell in self.maze:\n",
        "            if (x-1 == cell.x and y == cell.y) or (x+1 == cell.x and y == cell.y) or (y-1 == cell.y and x == cell.x) or (y+1 == cell.y and x == cell.x):\n",
        "                neighbours.append(cell)\n",
        "\n",
        "        return neighbours\n",
        "\n",
        "\n",
        "    def delete_walls(self, cell, neighbour):\n",
        "        x, y = neighbour.x - cell.x, neighbour.y - cell.y\n",
        "\n",
        "        if x > 0:\n",
        "            cell.walls[1] = False\n",
        "            neighbour.walls[3] = False\n",
        "        elif x < 0:\n",
        "            cell.walls[3] = False\n",
        "            neighbour.walls[1] = False\n",
        "\n",
        "        if y > 0:\n",
        "            cell.walls[2] = False\n",
        "            neighbour.walls[0] = False\n",
        "        elif y < 0:\n",
        "            cell.walls[0] = False\n",
        "            neighbour.walls[2] = False\n",
        "\n",
        "\n",
        "    def rand_choise(self):\n",
        "        return rd.choice(self.maze)\n",
        "\n",
        "\n",
        "    def draw_walls(self):\n",
        "\n",
        "        for cell in self.maze:\n",
        "            if cell.walls[0]:\n",
        "                start_x, end_x = cell.x, cell.x+1\n",
        "                start_y, end_y = N - cell.y, N - cell.y\n",
        "                plt.plot([start_x, end_x], [start_y, end_y], 'k-', lw=2)\n",
        "\n",
        "            if cell.walls[1]:\n",
        "                start_x, end_x = cell.x+1, cell.x+1\n",
        "                start_y, end_y = N - cell.y, N - cell.y-1\n",
        "                plt.plot([start_x, end_x], [start_y, end_y], 'k-', lw=2)\n",
        "\n",
        "            if cell.walls[2]:\n",
        "                start_x, end_x = cell.x, cell.x+1\n",
        "                start_y, end_y = N - cell.y-1, N - cell.y-1\n",
        "                plt.plot([start_x, end_x], [start_y, end_y], 'k-', lw=2)\n",
        "\n",
        "            if cell.walls[3]:\n",
        "                start_x, end_x = cell.x, cell.x\n",
        "                start_y, end_y = N - cell.y, N - cell.y-1\n",
        "                plt.plot([start_x, end_x], [start_y, end_y], 'k-', lw=2)\n",
        "\n",
        "    def __repr__(self):\n",
        "        fig = plt.figure(figsize=(10, 10))\n",
        "        self.draw_walls()\n",
        "        plt.show()\n",
        "        return ''"
      ],
      "id": "49d08ed5528452bf",
      "outputs": [],
      "execution_count": 9
    },
    {
      "metadata": {
        "jupyter": {
          "is_executing": true
        },
        "colab": {
          "base_uri": "https://localhost:8080/",
          "height": 830
        },
        "id": "78f385de29c09c31",
        "outputId": "d1450908-d800-406e-cfa6-9ac8ca706cca"
      },
      "cell_type": "code",
      "source": [
        "maze = Maze(10)\n",
        "maze"
      ],
      "id": "78f385de29c09c31",
      "outputs": [
        {
          "output_type": "display_data",
          "data": {
            "text/plain": [
              "<Figure size 1000x1000 with 1 Axes>"
            ],
            "image/png": "[encoded data removed]"
          },
          "metadata": {}
        },
        {
          "output_type": "execute_result",
          "data": {
            "text/plain": []
          },
          "metadata": {},
          "execution_count": 10
        }
      ],
      "execution_count": 10
    },
    {
      "cell_type": "code",
      "source": [],
      "metadata": {
        "id": "6oXYVi6gcweo"
      },
      "id": "6oXYVi6gcweo",
      "execution_count": null,
      "outputs": []
    },
    {
      "metadata": {
        "id": "70d1aba5fb13d76d"
      },
      "cell_type": "code",
      "outputs": [],
      "execution_count": null,
      "source": [],
      "id": "70d1aba5fb13d76d"
    }
  ],
  "metadata": {
    "kernelspec": {
      "display_name": "Python 3 (ipykernel)",
      "language": "python",
      "name": "python3"
    },
    "language_info": {
      "codemirror_mode": {
        "name": "ipython",
        "version": 3
      },
      "file_extension": ".py",
      "mimetype": "text/x-python",
      "name": "python",
      "nbconvert_exporter": "python",
      "pygments_lexer": "ipython3",
      "version": "3.11.8"
    },
    "colab": {
      "provenance": []
    }
  },
  "nbformat": 4,
  "nbformat_minor": 5
}